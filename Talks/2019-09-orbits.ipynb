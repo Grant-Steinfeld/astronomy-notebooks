{
 "cells": [
  {
   "cell_type": "code",
   "execution_count": null,
   "metadata": {},
   "outputs": [],
   "source": [
    "from IPython.display import HTML\n",
    "HTML(r'''\n",
    "<style>\n",
    "#notebook-container {\n",
    "  padding: 0px;\n",
    "}\n",
    "div.container {\n",
    "  background-color: red;\n",
    "}\n",
    "div.cell {\n",
    "  display: block;\n",
    "  position: absolute;\n",
    "  left: 0;\n",
    "  top: 0;\n",
    "}\n",
    "div.cell.unselected {\n",
    "  visibility: hidden;\n",
    "  opacity: 0;\n",
    "  transition: visibility 0s 1s, opacity 0.4s linear;\n",
    "}\n",
    "div.cell.selected {\n",
    "  visibility: visible;\n",
    "  opacity: 1;\n",
    "  transition: opacity 0.4s linear;\n",
    "}\n",
    "</style>\n",
    "''')\n",
    "''"
   ]
  },
  {
   "cell_type": "code",
   "execution_count": null,
   "metadata": {},
   "outputs": [],
   "source": []
  },
  {
   "cell_type": "code",
   "execution_count": null,
   "metadata": {},
   "outputs": [],
   "source": [
    "import plotly.graph_objects as go\n",
    "from skyfield.api import load"
   ]
  },
  {
   "cell_type": "code",
   "execution_count": null,
   "metadata": {},
   "outputs": [],
   "source": [
    "ts = load.timescale()\n",
    "eph = load('de421.bsp')"
   ]
  },
  {
   "cell_type": "code",
   "execution_count": null,
   "metadata": {},
   "outputs": [],
   "source": [
    "t = ts.utc(2019, 9, range(365))\n",
    "planet = eph['earth']\n",
    "x, y, z = planet.at(t).position.au"
   ]
  },
  {
   "cell_type": "code",
   "execution_count": null,
   "metadata": {
    "scrolled": false
   },
   "outputs": [],
   "source": [
    "data = go.Scatter(x=x, y=y, mode='lines')\n",
    "sun = go.Scatter(x=[0], y=[0], marker=dict(color='#bcbd22'))\n",
    "fig = go.Figure(data=[data, sun])\n",
    "fig.update_layout(showlegend=False, yaxis=dict(scaleanchor = \"x\", scaleratio = 1))\n",
    "fig.show()"
   ]
  },
  {
   "cell_type": "code",
   "execution_count": null,
   "metadata": {},
   "outputs": [],
   "source": [
    "data = go.Scatter3d(x=x, y=y, z=z, mode='lines')\n",
    "fig = go.Figure(data=[data])\n",
    "fig.update_layout(scene_aspectmode='data')\n",
    "fig.show()"
   ]
  },
  {
   "cell_type": "code",
   "execution_count": null,
   "metadata": {},
   "outputs": [],
   "source": [
    "x, y, z = planet.at(t).ecliptic_xyz().au"
   ]
  },
  {
   "cell_type": "code",
   "execution_count": null,
   "metadata": {},
   "outputs": [],
   "source": [
    "data = go.Scatter3d(x=x, y=y, z=z, mode='lines')\n",
    "fig = go.Figure(data=[data])\n",
    "fig.update_layout(scene_aspectmode='data')\n",
    "fig.show()"
   ]
  },
  {
   "cell_type": "code",
   "execution_count": null,
   "metadata": {},
   "outputs": [],
   "source": [
    "data = go.Scatter(x=x, y=y, mode='lines')\n",
    "sun = go.Scatter(x=[0], y=[0], marker=dict(color='#bcbd22'))\n",
    "fig = go.Figure(data=[data, sun])\n",
    "fig.update_layout(showlegend=False, yaxis=dict(scaleanchor = \"x\", scaleratio = 1))\n",
    "fig.show()"
   ]
  },
  {
   "cell_type": "code",
   "execution_count": null,
   "metadata": {},
   "outputs": [],
   "source": [
    "t = ts.utc(2019, 9, range(0, 85))\n",
    "sun = go.Scatter(x=[0], y=[0], marker=dict(color='#bcbd22'))\n",
    "data = []\n",
    "for planet in 'mercury', 'venus', 'earth', 'mars':\n",
    "    x, y, z = eph[planet].at(t).ecliptic_xyz().au\n",
    "    scatter1 = go.Scatter(x=x, y=y, mode='lines', line_color='black')\n",
    "    scatter2 = go.Scatter(x=x[::5], y=y[::5], mode='markers', marker_color='black')\n",
    "    data.extend([scatter1, scatter2])\n",
    "fig = go.Figure(data=data)\n",
    "fig.update_layout(showlegend=False, yaxis=dict(scaleanchor = \"x\", scaleratio = 1))\n",
    "fig.show()"
   ]
  },
  {
   "cell_type": "code",
   "execution_count": null,
   "metadata": {},
   "outputs": [],
   "source": []
  },
  {
   "cell_type": "code",
   "execution_count": null,
   "metadata": {},
   "outputs": [],
   "source": []
  },
  {
   "cell_type": "code",
   "execution_count": null,
   "metadata": {},
   "outputs": [],
   "source": []
  },
  {
   "cell_type": "code",
   "execution_count": null,
   "metadata": {},
   "outputs": [],
   "source": []
  },
  {
   "cell_type": "code",
   "execution_count": null,
   "metadata": {},
   "outputs": [],
   "source": []
  },
  {
   "cell_type": "code",
   "execution_count": null,
   "metadata": {},
   "outputs": [],
   "source": []
  },
  {
   "cell_type": "code",
   "execution_count": null,
   "metadata": {},
   "outputs": [],
   "source": []
  },
  {
   "cell_type": "code",
   "execution_count": null,
   "metadata": {},
   "outputs": [],
   "source": []
  },
  {
   "cell_type": "code",
   "execution_count": null,
   "metadata": {},
   "outputs": [],
   "source": []
  },
  {
   "cell_type": "code",
   "execution_count": null,
   "metadata": {},
   "outputs": [],
   "source": []
  },
  {
   "cell_type": "code",
   "execution_count": null,
   "metadata": {},
   "outputs": [],
   "source": []
  },
  {
   "cell_type": "code",
   "execution_count": null,
   "metadata": {},
   "outputs": [],
   "source": []
  },
  {
   "cell_type": "code",
   "execution_count": null,
   "metadata": {},
   "outputs": [],
   "source": []
  }
 ],
 "metadata": {
  "kernelspec": {
   "display_name": "Python 3",
   "language": "python",
   "name": "python3"
  },
  "language_info": {
   "codemirror_mode": {
    "name": "ipython",
    "version": 3
   },
   "file_extension": ".py",
   "mimetype": "text/x-python",
   "name": "python",
   "nbconvert_exporter": "python",
   "pygments_lexer": "ipython3",
   "version": "3.7.3"
  }
 },
 "nbformat": 4,
 "nbformat_minor": 2
}
