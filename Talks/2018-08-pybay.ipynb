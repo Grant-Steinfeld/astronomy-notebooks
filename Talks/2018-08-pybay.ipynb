{
 "cells": [
  {
   "cell_type": "code",
   "execution_count": null,
   "metadata": {},
   "outputs": [],
   "source": [
    "from __future__ import division\n",
    "%pylab inline\n",
    "%load_ext autoreload\n",
    "%autoreload 2\n",
    "import numpy as np\n",
    "import seaborn as sns\n",
    "sns.set()\n",
    "tau = 2 * pi\n",
    "pylab.rcParams['figure.figsize'] = 12, 5"
   ]
  },
  {
   "cell_type": "markdown",
   "metadata": {},
   "source": [
    "# An Import Loop and a Fiery Reentry\n",
    "\n",
    "Brandon Rhodes<br>\n",
    "PyBay, San Francisco<br>\n",
    "2018 August 18"
   ]
  },
  {
   "cell_type": "code",
   "execution_count": null,
   "metadata": {},
   "outputs": [],
   "source": [
    "from IPython.display import HTML\n",
    "\n",
    "style = \"\"\"\n",
    "<style>\n",
    "#header, div.unselected { display: none !important }\n",
    "#site { height: 100% !important }\n",
    "</style>\n",
    "\"\"\"\n",
    "\n",
    "style = \"\"\n",
    "\n",
    "HTML(style)"
   ]
  },
  {
   "cell_type": "code",
   "execution_count": null,
   "metadata": {
    "collapsed": true
   },
   "outputs": [],
   "source": [
    "from pytz import timezone\n",
    "eastern = timezone('US/Eastern')\n",
    "pacific = timezone('US/Pacific')\n",
    "\n",
    "EDT = -4\n",
    "PDT = -7"
   ]
  },
  {
   "cell_type": "code",
   "execution_count": null,
   "metadata": {
    "slideshow": {
     "slide_type": "slide"
    }
   },
   "outputs": [],
   "source": [
    "from skyfield.api import load, Topos\n",
    "\n",
    "ts = load.timescale()\n",
    "t6 = ts.utc(2018, 8, 19, 6 - PDT)\n",
    "\n",
    "planets = load('de421.bsp')\n",
    "earth, sun = planets['earth'], planets['sun']\n",
    "sf = earth + Topos('37.7749 N', '122.4194 W')\n",
    "alt, az, distance = sf.at(t6).observe(sun).apparent().altaz()\n",
    "print(alt)"
   ]
  },
  {
   "cell_type": "code",
   "execution_count": null,
   "metadata": {
    "slideshow": {
     "slide_type": "slide"
    }
   },
   "outputs": [],
   "source": [
    "t7 = ts.utc(2018, 8, 19, 7 - PDT)\n",
    "alt, az, distance = sf.at(t7).observe(sun).apparent().altaz()\n",
    "print(alt)"
   ]
  },
  {
   "cell_type": "markdown",
   "metadata": {},
   "source": [
    "1. The design of Skyfield\n",
    "2. The art of the search\n",
    "3. Tiangong-1 before dawn"
   ]
  },
  {
   "cell_type": "markdown",
   "metadata": {},
   "source": [
    "## The design of Skyfield"
   ]
  },
  {
   "cell_type": "markdown",
   "metadata": {},
   "source": [
    "Pure Python"
   ]
  },
  {
   "cell_type": "markdown",
   "metadata": {},
   "source": [
    "No Mutation"
   ]
  },
  {
   "cell_type": "markdown",
   "metadata": {},
   "source": [
    "```\n",
    ">>> my_list = [...]\n",
    ">>> my_list.sort()\n",
    ">>> print(my_list)\n",
    "```\n",
    "*vs*\n",
    "```\n",
    ">>> print(sorted(my_list))\n",
    "```"
   ]
  },
  {
   "cell_type": "code",
   "execution_count": null,
   "metadata": {},
   "outputs": [],
   "source": [
    "import ephem\n",
    "boston = ephem.Observer()\n",
    "boston.lat = '42.37'\n",
    "boston.lon = '-71.03'\n",
    "mars = ephem.Mars()\n",
    "altitudes = []\n",
    "for hour in range(24):\n",
    "    boston.date = '2018/8/18 %d' % hour  # awkward\n",
    "    mars.compute(boston)                 # awkward\n",
    "    altitudes.append(mars.alt)           # awkward\n",
    "altitudes"
   ]
  },
  {
   "cell_type": "markdown",
   "metadata": {},
   "source": [
    "Separate positions from coordinates\n",
    "\n",
    "*Symptom: “PyEphem’s results don’t match…”*"
   ]
  },
  {
   "cell_type": "markdown",
   "metadata": {},
   "source": [
    "*two axes: which position? which coordinates?*"
   ]
  },
  {
   "cell_type": "markdown",
   "metadata": {},
   "source": [
    "```\n",
    "astrometric.radec(J2000)\n",
    "astrometric.radec('date')\n",
    "astrometric.ecliptic_latlon()\n",
    "\n",
    "apparent = astrometric.apparent()\n",
    "\n",
    "apparent.radec(J2000)\n",
    "apparent.radec('date')\n",
    "apparent.ecliptic_latlon()\n",
    "```"
   ]
  },
  {
   "cell_type": "markdown",
   "metadata": {},
   "source": [
    "Explicit units"
   ]
  },
  {
   "cell_type": "markdown",
   "metadata": {},
   "source": [
    "NumPy Arrays"
   ]
  },
  {
   "cell_type": "markdown",
   "metadata": {},
   "source": [
    "Method chaining\n",
    "\n",
    "```\n",
    "apparent = astrometric.apparent()\n",
    "geocentric = topos.at(t)\n",
    "```"
   ]
  },
  {
   "cell_type": "markdown",
   "metadata": {},
   "source": [
    "```\n",
    "topos = geocentric.subpoint()\n",
    "```"
   ]
  },
  {
   "cell_type": "markdown",
   "metadata": {},
   "source": [
    "```\n",
    "Traceback (most recent call last):\n",
    "  ...\n",
    "  File \"/home/brandon/src/skyfield/skyfield/toposlib.py\",\n",
    "  line 7, in <module>\n",
    "    from .vectorlib import VectorFunction\n",
    "ImportError: cannot import name 'VectorFunction'\n",
    "```"
   ]
  },
  {
   "cell_type": "markdown",
   "metadata": {},
   "source": [
    "*flaw in Python's design*"
   ]
  },
  {
   "cell_type": "markdown",
   "metadata": {},
   "source": [
    "http://rhodesmill.org/skyfield/"
   ]
  },
  {
   "cell_type": "markdown",
   "metadata": {},
   "source": [
    "## The art of the search\n",
    "\n",
    "1. Create a number\n",
    "2. Draw a picture\n",
    "3. Launch a search"
   ]
  },
  {
   "cell_type": "code",
   "execution_count": null,
   "metadata": {},
   "outputs": [],
   "source": [
    "def f(hour):\n",
    "    t = ts.utc(2018, 8, 19, array(hour) - PDT)\n",
    "    alt, az, distance = sf.at(t).observe(sun).apparent().altaz()\n",
    "    return alt.degrees\n",
    "\n",
    "f(7)"
   ]
  },
  {
   "cell_type": "code",
   "execution_count": null,
   "metadata": {},
   "outputs": [],
   "source": [
    "plot([6, 7], [f(6), f(7)], 'bo--')\n",
    "plot([6, 7], [0, 0], 'r-')"
   ]
  },
  {
   "cell_type": "code",
   "execution_count": null,
   "metadata": {},
   "outputs": [],
   "source": [
    "h = [6, 6.5, 7]\n",
    "plot(h, f(h), 'bo--')\n",
    "plot(h, zeros(len(h)), 'r-')"
   ]
  },
  {
   "cell_type": "code",
   "execution_count": null,
   "metadata": {},
   "outputs": [],
   "source": [
    "h = [6, 6.5, 6.75, 7]\n",
    "plot(h, f(h), 'bo--')\n",
    "plot(h, zeros(len(h)), 'r-')"
   ]
  },
  {
   "cell_type": "code",
   "execution_count": null,
   "metadata": {},
   "outputs": [],
   "source": [
    "h = [6, 6.5, 6.625, 6.75, 7]\n",
    "plot(h, f(h), 'bo--')\n",
    "plot(h, zeros(len(h)), 'r-')"
   ]
  },
  {
   "cell_type": "code",
   "execution_count": null,
   "metadata": {},
   "outputs": [],
   "source": [
    "h = [6, 6.5, 6.5625, 6.625, 6.75, 7]\n",
    "plot(h, f(h), 'bo--')\n",
    "plot(h, zeros(len(h)), 'r-')"
   ]
  },
  {
   "cell_type": "code",
   "execution_count": null,
   "metadata": {},
   "outputs": [],
   "source": [
    "interval_start = 7 - 6\n",
    "interval_end = 1/3600\n",
    "print(log(interval_start / interval_end) / log(2))"
   ]
  },
  {
   "cell_type": "code",
   "execution_count": null,
   "metadata": {},
   "outputs": [],
   "source": [
    "h0 = 6\n",
    "h1 = 7\n",
    "while h1 - h0 > 1/3600:\n",
    "    h = (h1 + h0) / 2\n",
    "    print(h, h1 - h0)\n",
    "    if f(h) > 0:\n",
    "        h1 = h\n",
    "    else:\n",
    "        h0 = h"
   ]
  },
  {
   "cell_type": "code",
   "execution_count": null,
   "metadata": {},
   "outputs": [],
   "source": [
    "h = [6, 6.5, 6.5625, 6.625, 6.75, 7]\n",
    "plot(h, f(h), 'bo--')\n",
    "plot(h, zeros(len(h)), 'r-')"
   ]
  },
  {
   "cell_type": "code",
   "execution_count": null,
   "metadata": {},
   "outputs": [],
   "source": [
    "# What if we guess the answer is at the intercept\n",
    "# of our current two guesses with the f() == 0 line?\n",
    "# \"Secant Method\"\n",
    "\n",
    "h0 = 6\n",
    "h1 = 7\n",
    "while abs(h1 - h0) > 1/3600:\n",
    "    h = (h0 * f(h1) - h1 * f(h0)) / (f(h1) - f(h0))\n",
    "    h0, h1 = h1, h\n",
    "    print(h0, h1, h1 - h0)"
   ]
  },
  {
   "cell_type": "markdown",
   "metadata": {},
   "source": [
    "*finesse*"
   ]
  },
  {
   "cell_type": "code",
   "execution_count": null,
   "metadata": {},
   "outputs": [],
   "source": [
    "h0 = 13\n",
    "h1 = 14\n",
    "while abs(h1 - h0) > 1/3600:\n",
    "    h = (h0 * f(h1) - h1 * f(h0)) / (f(h1) - f(h0))\n",
    "    h0, h1 = h1, h\n",
    "    print(h0, h1, h1 - h0)"
   ]
  },
  {
   "cell_type": "code",
   "execution_count": null,
   "metadata": {
    "collapsed": true
   },
   "outputs": [],
   "source": [
    "def draw_arrow(x0, y0, x1, y1):\n",
    "    annotate(\n",
    "        '', (x1, y1), (x0, y0),\n",
    "        xycoords='data',\n",
    "        arrowprops={'arrowstyle':'->, head_width=0.5, head_length=1',\n",
    "                    'linewidth': 1,\n",
    "                    'color':'k'},\n",
    "    )"
   ]
  },
  {
   "cell_type": "code",
   "execution_count": null,
   "metadata": {},
   "outputs": [],
   "source": [
    "fig, ax = plt.subplots()\n",
    "h0 = 13\n",
    "h1 = 14\n",
    "axhline(0, color='r')\n",
    "while abs(h1 - h0) > 1/3600:\n",
    "    h = (h0 * f(h1) - h1 * f(h0)) / (f(h1) - f(h0))\n",
    "    plot(h0, f(h0), 'bo')\n",
    "    draw_arrow(h1, f(h1), h, 0)\n",
    "    h0, h1 = h1, h"
   ]
  },
  {
   "cell_type": "code",
   "execution_count": null,
   "metadata": {},
   "outputs": [],
   "source": [
    "t = arange(*ax.get_xlim(), 0.1)\n",
    "ax.plot(t, f(t))\n",
    "fig"
   ]
  },
  {
   "cell_type": "code",
   "execution_count": null,
   "metadata": {},
   "outputs": [],
   "source": [
    "fig, ax = plt.subplots()\n",
    "h0 = 12.7\n",
    "h1 = 13.7\n",
    "while abs(h1 - h0) > 1/3600:\n",
    "    h = (h0 * f(h1) - h1 * f(h0)) / (f(h1) - f(h0))\n",
    "    plot(h0, f(h0), 'ro')\n",
    "    draw_arrow(h1, f(h1), h, 0)\n",
    "    h0, h1 = h1, h"
   ]
  },
  {
   "cell_type": "code",
   "execution_count": null,
   "metadata": {},
   "outputs": [],
   "source": [
    "t = arange(*ax.get_xlim(), 0.1)\n",
    "ax.plot(t, f(t))\n",
    "fig"
   ]
  },
  {
   "cell_type": "markdown",
   "metadata": {},
   "source": [
    "secant method is\n",
    "difficult to control\n",
    "\n",
    "*but*\n",
    "\n",
    "efficient"
   ]
  },
  {
   "cell_type": "markdown",
   "metadata": {},
   "source": [
    "does safety have to be expensive?"
   ]
  },
  {
   "cell_type": "code",
   "execution_count": null,
   "metadata": {},
   "outputs": [],
   "source": [
    "%timeit f(6)\n",
    "%timeit f([6])\n",
    "%timeit f([6, 7, 8, 9])"
   ]
  },
  {
   "cell_type": "code",
   "execution_count": null,
   "metadata": {},
   "outputs": [],
   "source": [
    "h0 = 6\n",
    "h1 = 7\n",
    "h = linspace(h0, h1, 5)\n",
    "h"
   ]
  },
  {
   "cell_type": "code",
   "execution_count": null,
   "metadata": {},
   "outputs": [],
   "source": [
    "f(h)"
   ]
  },
  {
   "cell_type": "code",
   "execution_count": null,
   "metadata": {},
   "outputs": [],
   "source": [
    "f(h) > 0"
   ]
  },
  {
   "cell_type": "code",
   "execution_count": null,
   "metadata": {},
   "outputs": [],
   "source": [
    "argmax(f(h) > 0)"
   ]
  },
  {
   "cell_type": "code",
   "execution_count": null,
   "metadata": {},
   "outputs": [],
   "source": [
    "h0, h1 = 6, 7\n",
    "while h1 - h0 > 1/3600:\n",
    "    h = linspace(h0, h1, 5)\n",
    "    print(h)\n",
    "    i = argmax(f(h) > 0)\n",
    "    h0, h1 = h[i-1], h[i]"
   ]
  },
  {
   "cell_type": "code",
   "execution_count": null,
   "metadata": {},
   "outputs": [],
   "source": [
    "def secant_search(h0, h1, epsilon, f):\n",
    "    while abs(h1 - h0) > epsilon:\n",
    "        f0, f1 = f(h0), f(h1)\n",
    "        h = (h0 * f1 - h1 * f0) / (f1 - f0)\n",
    "        h0, h1 = h1, h\n",
    "    return h\n",
    "\n",
    "secant_search(6, 7, 1/3600, f)"
   ]
  },
  {
   "cell_type": "code",
   "execution_count": null,
   "metadata": {},
   "outputs": [],
   "source": [
    "def phalanx_search(h0, h1, epsilon, length, f):\n",
    "    while h1 - h0 > epsilon:\n",
    "        h = linspace(h0, h1, length)\n",
    "        i = argmax(f(h) > 0)\n",
    "        h0, h1 = h[i-1], h[i]\n",
    "    return h0\n",
    "\n",
    "phalanx_search(6, 7, 1/3600, 5, f)"
   ]
  },
  {
   "cell_type": "code",
   "execution_count": null,
   "metadata": {},
   "outputs": [],
   "source": [
    "%timeit secant_search(6, 7, 1/3600, f)\n",
    "%timeit phalanx_search(6, 7, 1/3600, 3, f)\n",
    "%timeit phalanx_search(6, 7, 1/3600, 5, f)\n",
    "%timeit phalanx_search(6, 7, 1/3600, 9, f)"
   ]
  },
  {
   "cell_type": "code",
   "execution_count": null,
   "metadata": {
    "collapsed": true
   },
   "outputs": [],
   "source": [
    "def secant_search(h0, h1, epsilon, f):\n",
    "    while abs(h1 - h0) > epsilon:\n",
    "        f0, f1 = f(h0), f(h1)\n",
    "        h = (h0 * f1 - h1 * f0) / (f1 - f0)\n",
    "        h0, h1 = h1, h\n",
    "    return h"
   ]
  },
  {
   "cell_type": "code",
   "execution_count": null,
   "metadata": {
    "collapsed": true
   },
   "outputs": [],
   "source": [
    "def secant_search2(h0, h1, epsilon, f):\n",
    "    while abs(h1 - h0) > epsilon:\n",
    "        f0, f1 = f([h0, h1])\n",
    "        h = (h0 * f1 - h1 * f0) / (f1 - f0)\n",
    "        h0, h1 = h1, h\n",
    "    return h"
   ]
  },
  {
   "cell_type": "code",
   "execution_count": null,
   "metadata": {
    "collapsed": true
   },
   "outputs": [],
   "source": [
    "from scipy.optimize import brentq"
   ]
  },
  {
   "cell_type": "code",
   "execution_count": null,
   "metadata": {},
   "outputs": [],
   "source": [
    "print(brentq(f, 6, 7, xtol=1/3600))\n",
    "print(secant_search(6, 7, 1/3600, f))\n",
    "print(secant_search2(6, 7, 1/3600, f))\n",
    "print(phalanx_search(6, 7, 1/3600, 3, f))\n",
    "print(phalanx_search(6, 7, 1/3600, 5, f))\n",
    "print(phalanx_search(6, 7, 1/3600, 9, f))"
   ]
  },
  {
   "cell_type": "code",
   "execution_count": null,
   "metadata": {},
   "outputs": [],
   "source": [
    "%timeit brentq(f, 6, 7, xtol=1/3600)\n",
    "%timeit secant_search(6, 7, 1/3600, f)\n",
    "%timeit secant_search2(6, 7, 1/3600, f)\n",
    "%timeit phalanx_search(6, 7, 1/3600, 1, f)\n",
    "%timeit phalanx_search(6, 7, 1/3600, 8, f)\n",
    "%timeit phalanx_search(6, 7, 1/3600, 16, f)"
   ]
  },
  {
   "cell_type": "code",
   "execution_count": null,
   "metadata": {},
   "outputs": [],
   "source": [
    "for i in range(3, 30):\n",
    "    t0 = time()\n",
    "    phalanx_search(6, 7, 1/3600, i, f)\n",
    "    dt = time() - t0\n",
    "    plot(i, dt, 'o')\n",
    "ylim(0)"
   ]
  },
  {
   "cell_type": "code",
   "execution_count": null,
   "metadata": {},
   "outputs": [],
   "source": [
    "for i in range(3, 50):\n",
    "    t0 = time()\n",
    "    phalanx_search(6, 7, 1/3600/1000, i, f)\n",
    "    dt = time() - t0\n",
    "    plot(i, dt, 'o')\n",
    "ylim(0)"
   ]
  },
  {
   "cell_type": "markdown",
   "metadata": {},
   "source": [
    "Have we found sunrise?"
   ]
  },
  {
   "cell_type": "code",
   "execution_count": null,
   "metadata": {},
   "outputs": [],
   "source": [
    "h0 // 1, h0 * 60 // 1 % 60, h0 * 3600 // 1 % 60"
   ]
  },
  {
   "cell_type": "markdown",
   "metadata": {},
   "source": [
    "<img src=\"sunrise-form.png\">"
   ]
  },
  {
   "cell_type": "markdown",
   "metadata": {},
   "source": [
    "<table class=\"tableA\">\n",
    "            <tr class=\"trA\"><td class=\"tdAleft\">Sunday, August 19, 2018</td>\n",
    "            <td class=\"tdAright\">Pacific Daylight Time</td></tr></table><table>\n",
    "          <tr style=\"font-size:20px\">\n",
    "          <th colspan=\"2\">Sun</th>\n",
    "          </tr>\n",
    "            <tr><td>Begin civil twilight</td><td>6:01 a.m.</td></tr>\n",
    "            <tr><td>Sunrise</td><td>6:29 a.m.</td></tr>\n",
    "            <tr><td>Sun transit</td><td>1:13 p.m.</td></tr>\n",
    "            <tr><td>Sunset</td><td>7:57 p.m.</td></tr>\n",
    "            <tr><td>End civil twilight</td><td>8:25 p.m.</td></tr><tr style=\"font-size:20px\"><th colspan=\"2\">Moon</th></tr>\n",
    "               <tr><td>Moonset</td><td>12:50 a.m.</td></tr>\n",
    "               <tr><td>Moonrise</td><td>3:15 p.m.</td></tr>\n",
    "               <tr><td>Moon transit</td><td>8:24 p.m.</td></tr>\n",
    "         <tr><td>Moonset</td><td>1:30 a.m. on following day</td></tr></table>"
   ]
  },
  {
   "cell_type": "markdown",
   "metadata": {},
   "source": [
    "“For computational purposes, sunrise or sunset is defined to occur when the geometric zenith distance of center of the Sun is 90.8333 degrees.”\n",
    "\n",
    "http://aa.usno.navy.mil/faq/docs/RST_defs.php"
   ]
  },
  {
   "cell_type": "code",
   "execution_count": null,
   "metadata": {
    "collapsed": true
   },
   "outputs": [],
   "source": [
    "def phalanx_search(t0, t1, epsilon, f):\n",
    "    jd0, jd1 = t0.tt, t1.tt\n",
    "    while jd1 - jd0 > epsilon:\n",
    "        jd = linspace(jd0, jd1, 16)\n",
    "        t = ts.tt(jd=jd)\n",
    "        i = argmax(f(t))\n",
    "        jd0, jd1 = jd[i-1], jd[i]\n",
    "    return ts.tt(jd=jd0)\n",
    "\n",
    "def sunrise(topos):\n",
    "    def is_sun_up_at(t):\n",
    "        alt, az, distance = topos.at(t).observe(sun).apparent().altaz()\n",
    "        return alt.degrees > -0.8333\n",
    "    return is_sun_up_at"
   ]
  },
  {
   "cell_type": "code",
   "execution_count": null,
   "metadata": {},
   "outputs": [],
   "source": [
    "t = phalanx_search(\n",
    "    ts.utc(2018, 8, 19, 6 - PDT),\n",
    "    ts.utc(2018, 8, 19, 7 - PDT),\n",
    "    1e-8,\n",
    "    sunrise(sf),\n",
    ")\n",
    "\n",
    "t.astimezone(pacific).isoformat(' ')"
   ]
  },
  {
   "cell_type": "markdown",
   "metadata": {},
   "source": [
    "<table class=\"tableA\">\n",
    "          <tr style=\"font-size:20px\">\n",
    "          <th colspan=\"2\">Sun</th>\n",
    "          </tr>\n",
    "            <tr><td>Sunrise</td><td>6:29 a.m.</td></tr>\n",
    "</table>"
   ]
  },
  {
   "cell_type": "code",
   "execution_count": null,
   "metadata": {},
   "outputs": [],
   "source": [
    "# What if we want the sun's maximum altitude?\n",
    "\n",
    "for h in 10, 11, 12, 13, 14:\n",
    "    t = ts.utc(2018, 8, 19, h - PDT)\n",
    "    alt, az, distance = sf.at(t).observe(sun).apparent().altaz()\n",
    "    print(h, alt)"
   ]
  },
  {
   "cell_type": "code",
   "execution_count": null,
   "metadata": {},
   "outputs": [],
   "source": [
    "t = ts.utc(2018, 8, 19, [h - PDT for h in range(10, 15)])\n",
    "alt, az, distance = sf.at(t).observe(sun).apparent().altaz()\n",
    "d = alt.degrees\n",
    "print(d)"
   ]
  },
  {
   "cell_type": "code",
   "execution_count": null,
   "metadata": {},
   "outputs": [],
   "source": [
    "i = argmax(d)\n",
    "i"
   ]
  },
  {
   "cell_type": "code",
   "execution_count": null,
   "metadata": {},
   "outputs": [],
   "source": [
    "d[i-1], d[i], d[i+1]"
   ]
  },
  {
   "cell_type": "code",
   "execution_count": null,
   "metadata": {
    "collapsed": true
   },
   "outputs": [],
   "source": [
    "def sunalt(t):\n",
    "    alt, az, distance = sf.at(t).observe(sun).apparent().altaz()\n",
    "    return alt.degrees"
   ]
  },
  {
   "cell_type": "code",
   "execution_count": null,
   "metadata": {
    "collapsed": true
   },
   "outputs": [],
   "source": [
    "def maximize(t0, t1, epsilon, f):\n",
    "    jd0, jd1 = t0.tt, t1.tt\n",
    "    while jd1 - jd0 > epsilon:\n",
    "        jd = linspace(jd0, jd1, 16)\n",
    "        t = ts.tt(jd=jd)\n",
    "        i = argmax(f(t))\n",
    "        i = clip(i, 1, 14)\n",
    "        jd0, jd1 = jd[i-1], jd[i+1]\n",
    "    return ts.tt(jd=jd0)"
   ]
  },
  {
   "cell_type": "code",
   "execution_count": null,
   "metadata": {},
   "outputs": [],
   "source": [
    "t = maximize(ts.utc(2018, 8, 19, 10 - PDT),\n",
    "             ts.utc(2018, 8, 19, 14 - PDT), 1e-8, sunalt)\n",
    "print(t.astimezone(pacific))\n",
    "\n",
    "day = ts.utc(2018, 8, 19, arange(-PDT, 24-PDT, 0.1))\n",
    "plot(day.utc_datetime(), sunalt(day))\n",
    "plot(t.utc_datetime(), sunalt(t), 'ro')"
   ]
  },
  {
   "cell_type": "markdown",
   "metadata": {},
   "source": [
    "## Tiangong-1 before dawn"
   ]
  },
  {
   "cell_type": "markdown",
   "metadata": {
    "collapsed": true
   },
   "source": [
    "<img width=\"100%\" src=\"/files/Talks/debris.jpg\">"
   ]
  },
  {
   "cell_type": "markdown",
   "metadata": {
    "collapsed": true
   },
   "source": [
    "<img src=\"tiangong-1-headline.png\">"
   ]
  },
  {
   "cell_type": "code",
   "execution_count": null,
   "metadata": {},
   "outputs": [],
   "source": [
    "satellites = load.tle('stations-2018-03-31.tle')\n",
    "tg = satellites['TIANGONG 1']\n",
    "tg"
   ]
  },
  {
   "cell_type": "code",
   "execution_count": null,
   "metadata": {},
   "outputs": [],
   "source": [
    "bluffton = Topos('40.8953 N', '83.8888 W')\n",
    "EST = -4\n",
    "t = phalanx_search(\n",
    "    ts.utc(2018, 8, 19, 4 - EDT),\n",
    "    ts.utc(2018, 8, 19, 10 - EDT),\n",
    "    1e-8,\n",
    "    sunrise(earth + bluffton),\n",
    ")\n",
    "t.astimezone(eastern).isoformat(' ')"
   ]
  },
  {
   "cell_type": "code",
   "execution_count": null,
   "metadata": {},
   "outputs": [],
   "source": [
    "# How high will Tiangong-1 pass overhead?\n",
    "\n",
    "t0, t1 = ts.utc(2018, 4, 1, [3-EDT, 7-EDT])\n",
    "f = lambda t: (tg - bluffton).at(t).altaz()[0].degrees\n",
    "tm = maximize(t0, t1, 1/24/3600, f)\n",
    "print(tm.astimezone(eastern))\n",
    "print(f(tm))"
   ]
  },
  {
   "cell_type": "code",
   "execution_count": null,
   "metadata": {},
   "outputs": [],
   "source": [
    "t = ts.utc(2018, 4, 1, arange(0-PDT, 12-PDT, 1/60))\n",
    "alt, az, distance = (tg - bluffton).at(t).altaz()\n",
    "plot(t.astimezone(eastern), alt.degrees)\n",
    "plot(tm.astimezone(eastern), f(tm), 'ro')"
   ]
  },
  {
   "cell_type": "code",
   "execution_count": null,
   "metadata": {},
   "outputs": [],
   "source": [
    "print(alt)\n",
    "above_horizon = alt.degrees > 0\n",
    "print(above_horizon[300:320])"
   ]
  },
  {
   "cell_type": "code",
   "execution_count": null,
   "metadata": {},
   "outputs": [],
   "source": [
    "indicies, = above_horizon.nonzero()\n",
    "print(indicies)"
   ]
  },
  {
   "cell_type": "code",
   "execution_count": null,
   "metadata": {},
   "outputs": [],
   "source": [
    "boundaries, = diff(above_horizon).nonzero()\n",
    "print(boundaries)\n",
    "\n",
    "passes = boundaries.reshape(len(boundaries) // 2, 2)\n",
    "print(passes)"
   ]
  },
  {
   "cell_type": "code",
   "execution_count": null,
   "metadata": {},
   "outputs": [],
   "source": [
    "for i, j in passes:\n",
    "    tm = maximize(t[i], t[j], 1/24/3600, f)\n",
    "    print(tm.astimezone(eastern), f(tm))"
   ]
  },
  {
   "cell_type": "code",
   "execution_count": null,
   "metadata": {
    "collapsed": true
   },
   "outputs": [],
   "source": [
    "def plot_sky(pass_indices):\n",
    "    i, j = pass_indices\n",
    "    #print('Rises:', t[i].astimezone(eastern))\n",
    "    #print('Sets:', t[j].astimezone(eastern))\n",
    "    \n",
    "    # Set up the polar plot.\n",
    "    ax = plt.subplot(111, projection='polar')\n",
    "    ax.set_rlim([0, 90])\n",
    "    ax.set_theta_zero_location('N')\n",
    "    ax.set_theta_direction(-1)\n",
    "    \n",
    "    # Draw line and labels.\n",
    "    θ = az.radians\n",
    "    r = 90 - alt.degrees\n",
    "    ax.plot(θ[i:j], r[i:j], 'ro--')\n",
    "    for k in range(i, j):\n",
    "        if r[k] < 90:\n",
    "            text = t[k].astimezone(eastern).strftime('%H:%M')\n",
    "            ax.text(θ[k], r[k], text, ha='right', va='bottom')"
   ]
  },
  {
   "cell_type": "code",
   "execution_count": null,
   "metadata": {},
   "outputs": [],
   "source": [
    "plot_sky(passes[0])"
   ]
  },
  {
   "cell_type": "code",
   "execution_count": null,
   "metadata": {},
   "outputs": [],
   "source": [
    "plot_sky(passes[1])"
   ]
  },
  {
   "cell_type": "code",
   "execution_count": null,
   "metadata": {},
   "outputs": [],
   "source": [
    "print(t)\n",
    "print(t[0].utc_jpl())\n",
    "print(t[-1].utc_jpl())"
   ]
  },
  {
   "cell_type": "code",
   "execution_count": null,
   "metadata": {},
   "outputs": [],
   "source": [
    "ranking = []\n",
    "for sat in sats:\n",
    "    position = sat.at(t)\n",
    "    v = position.velocity.km_per_s\n",
    "    speed = sqrt((v * v).sum(axis=0))\n",
    "    if any(isnan(speed)):\n",
    "        continue\n",
    "    ranking.append((speed.max(), sat.name))\n",
    "sorted(ranking, reverse=True)[:12]"
   ]
  },
  {
   "cell_type": "code",
   "execution_count": null,
   "metadata": {},
   "outputs": [],
   "source": [
    "ranking = []\n",
    "for sat in sats:\n",
    "    position = sat.at(t)\n",
    "    p = position.position.km\n",
    "    elevation = sqrt((p * p).sum(axis=0)) - ERAD / 1e3\n",
    "    if isnan(elevation.min()):\n",
    "        continue\n",
    "    ranking.append((elevation.min(), sat.name))\n",
    "sorted(ranking)[:12]"
   ]
  },
  {
   "cell_type": "code",
   "execution_count": null,
   "metadata": {},
   "outputs": [],
   "source": [
    "speeds = []\n",
    "for sat in sats:\n",
    "    position = sat.at(t)\n",
    "    p = position.position.km\n",
    "    v = position.velocity.km_per_s\n",
    "    speed = sqrt((v * v).sum(axis=0))\n",
    "    elevation = sqrt((p * p).sum(axis=0)) - ERAD / 1e3\n",
    "    if any(isnan(speed)):\n",
    "        continue\n",
    "    degrees_per_second = (speed / elevation) / tau * 360\n",
    "    speeds.append((degrees_per_second.max(), sat.name))\n",
    "sorted(speeds, reverse=True)[:12]"
   ]
  },
  {
   "cell_type": "code",
   "execution_count": null,
   "metadata": {},
   "outputs": [],
   "source": [
    "# Brandon Rhodes - @brandon_rhodes - PyBay 2018\n",
    "\n",
    "plot_sky(passes[1])"
   ]
  },
  {
   "cell_type": "code",
   "execution_count": null,
   "metadata": {},
   "outputs": [],
   "source": [
    "HTML(\"\"\"\n",
    "<style>\n",
    ".rendered_html p {\n",
    "  text-align: center;\n",
    "}\n",
    "li, pre {\n",
    "  text-align: left;\n",
    "}\n",
    ".text_cell_render.rendered_html {\n",
    "  font-size: larger;\n",
    "  text-align: center;\n",
    "}\n",
    "</style>\n",
    "<script src=\"slide_timer.js\"></script>\n",
    "<script>\n",
    "setup_timer(12 + 3, 20);\n",
    "</script>\n",
    "\"\"\")"
   ]
  }
 ],
 "metadata": {
  "kernelspec": {
   "display_name": "Python 3",
   "language": "python",
   "name": "python3"
  },
  "language_info": {
   "codemirror_mode": {
    "name": "ipython",
    "version": 3
   },
   "file_extension": ".py",
   "mimetype": "text/x-python",
   "name": "python",
   "nbconvert_exporter": "python",
   "pygments_lexer": "ipython3",
   "version": "3.6.2"
  }
 },
 "nbformat": 4,
 "nbformat_minor": 2
}
