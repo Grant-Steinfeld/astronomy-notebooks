{
 "cells": [
  {
   "cell_type": "code",
   "execution_count": 1,
   "metadata": {},
   "outputs": [
    {
     "name": "stdout",
     "output_type": "stream",
     "text": [
      "Populating the interactive namespace from numpy and matplotlib\n"
     ]
    }
   ],
   "source": [
    "from __future__ import division\n",
    "%pylab inline\n",
    "%load_ext autoreload\n",
    "%autoreload 2\n",
    "import numpy as np\n",
    "import pandas as pd\n",
    "#mport seaborn as sns\n",
    "#sns.set()\n",
    "pd.options.display.max_colwidth = 128\n",
    "pylab.rcParams['figure.figsize'] = 12, 5\n",
    "# d = pd.read_csv('...', parse_dates=['date'])\n",
    "# pd.to_datetime(d['timestamp'], unit='s')\n",
    "# with mpl.rc_context({\"figure.figsize\": (5, 5)}):\n",
    "# with mpl.rc_context({\"lines.linewidth\": 2, \"lines.color\": \"r\"}):\n",
    "# plt.legend(loc='center left', bbox_to_anchor=(1.1, 0.5))\n",
    "# ax.set_xlabel('x label')"
   ]
  },
  {
   "cell_type": "code",
   "execution_count": 2,
   "metadata": {},
   "outputs": [],
   "source": [
    "from skyfield import api\n",
    "load = api.Loader('../data')\n",
    "ts = load.timescale(builtin=True)\n",
    "t = ts.utc(2020, 4, 23)\n",
    "eph = load('de421.bsp')\n",
    "sun = eph['sun']\n",
    "earth = eph['earth']\n",
    "bluffton = earth + api.Topos('40.8939 N', '83.8917 W')\n",
    "sat = api.EarthSatellite(\n",
    "    '1 25544U 98067A   20114.53491251  .00001443  00000-0  33988-4 0  9995',\n",
    "    '2 25544  51.6434 258.9578 0001655 179.6828 273.6120 15.49306451223542',\n",
    ")"
   ]
  },
  {
   "cell_type": "code",
   "execution_count": 3,
   "metadata": {},
   "outputs": [
    {
     "name": "stdout",
     "output_type": "stream",
     "text": [
      "916 comets loaded\n"
     ]
    }
   ],
   "source": [
    "from skyfield.data import mpc\n",
    "\n",
    "with load.open(mpc.COMET_URL) as f:\n",
    "    comets = mpc.load_comets_dataframe(f)\n",
    "\n",
    "comets = comets.set_index('designation', drop=False)\n",
    "print(len(comets), 'comets loaded')"
   ]
  },
  {
   "cell_type": "code",
   "execution_count": 4,
   "metadata": {},
   "outputs": [],
   "source": [
    "row = comets.loc['C/2020 F3 (NEOWISE)']"
   ]
  },
  {
   "cell_type": "code",
   "execution_count": 5,
   "metadata": {},
   "outputs": [
    {
     "name": "stdout",
     "output_type": "stream",
     "text": [
      "10h 06m 39.38s\n",
      "+46deg 02' 01.9\"\n"
     ]
    }
   ],
   "source": [
    "from skyfield.constants import GM_SUN_Pitjeva_2005_km3_s2 as GM_SUN\n",
    "\n",
    "ts = load.timescale(builtin=True)\n",
    "eph = load('de421.bsp')\n",
    "sun, earth = eph['sun'], eph['earth']\n",
    "\n",
    "comet = sun + mpc.comet_orbit(row, ts, GM_SUN)\n",
    "\n",
    "t = ts.utc(2020, 7, 22)\n",
    "comet_pos = earth.at(t).observe(comet)\n",
    "ra, dec, distance = comet_pos.radec()\n",
    "print(ra)\n",
    "print(dec)"
   ]
  },
  {
   "cell_type": "code",
   "execution_count": 6,
   "metadata": {},
   "outputs": [],
   "source": [
    "from skyfield.data import hipparcos"
   ]
  },
  {
   "cell_type": "code",
   "execution_count": 7,
   "metadata": {},
   "outputs": [],
   "source": [
    "with load.open(hipparcos.URL) as f:\n",
    "    stars = hipparcos.load_dataframe(f)"
   ]
  },
  {
   "cell_type": "code",
   "execution_count": 8,
   "metadata": {},
   "outputs": [
    {
     "data": {
      "text/plain": [
       "118218"
      ]
     },
     "execution_count": 8,
     "metadata": {},
     "output_type": "execute_result"
    }
   ],
   "source": [
    "len(stars)"
   ]
  },
  {
   "cell_type": "code",
   "execution_count": 9,
   "metadata": {},
   "outputs": [],
   "source": [
    "#bright = stars[stars.magnitude <= 7]\n",
    "bright = stars[stars.magnitude <= 6]"
   ]
  },
  {
   "cell_type": "code",
   "execution_count": 10,
   "metadata": {},
   "outputs": [
    {
     "data": {
      "text/plain": [
       "5044"
      ]
     },
     "execution_count": 10,
     "metadata": {},
     "output_type": "execute_result"
    }
   ],
   "source": [
    "len(bright)"
   ]
  },
  {
   "cell_type": "code",
   "execution_count": 11,
   "metadata": {},
   "outputs": [],
   "source": [
    "from skyfield.projections import build_stereographic_projection"
   ]
  },
  {
   "cell_type": "code",
   "execution_count": 12,
   "metadata": {},
   "outputs": [],
   "source": [
    "proj = build_stereographic_projection(comet_pos)"
   ]
  },
  {
   "cell_type": "code",
   "execution_count": 13,
   "metadata": {},
   "outputs": [],
   "source": [
    "from skyfield.api import Star"
   ]
  },
  {
   "cell_type": "code",
   "execution_count": 14,
   "metadata": {},
   "outputs": [],
   "source": [
    "all_stars = Star.from_dataframe(stars)"
   ]
  },
  {
   "cell_type": "code",
   "execution_count": 15,
   "metadata": {},
   "outputs": [],
   "source": [
    "all_star_positions = earth.at(t).observe(all_stars)\n",
    "all_star_x, all_star_y = proj(all_star_positions)"
   ]
  },
  {
   "cell_type": "code",
   "execution_count": 16,
   "metadata": {},
   "outputs": [],
   "source": [
    "#print(all_star_coordinates)"
   ]
  },
  {
   "cell_type": "code",
   "execution_count": 17,
   "metadata": {},
   "outputs": [],
   "source": [
    "starobj = Star.from_dataframe(bright)"
   ]
  },
  {
   "cell_type": "code",
   "execution_count": 18,
   "metadata": {},
   "outputs": [],
   "source": [
    "bluffton = earth + api.Topos('40.8939 N', '83.8917 W')"
   ]
  },
  {
   "cell_type": "code",
   "execution_count": 19,
   "metadata": {},
   "outputs": [],
   "source": [
    "observer = bluffton.at(t)"
   ]
  },
  {
   "cell_type": "code",
   "execution_count": 20,
   "metadata": {},
   "outputs": [],
   "source": [
    "starpos = observer.observe(starobj)"
   ]
  },
  {
   "cell_type": "code",
   "execution_count": 21,
   "metadata": {},
   "outputs": [],
   "source": [
    "x, y = proj(starpos)"
   ]
  },
  {
   "cell_type": "code",
   "execution_count": 22,
   "metadata": {},
   "outputs": [],
   "source": [
    "points = [(0.5, 32), (1.0, 30), (1.5, 28), (2.0, 27), (2.5, 24), (3.0, 22), (3.5, 20),\n",
    "          (4.0, 19), (4.5, 17),\n",
    "          (5.0, 16), (5.5, 14), (6.0, 11), (6.5, 10), (7.0, 9), (7.5, 8), (8.0, 7), (8.5, 6),\n",
    "          (9.0, 5), (9.5, 4)]\n",
    "mag, size = np.array(points).T"
   ]
  },
  {
   "cell_type": "code",
   "execution_count": 23,
   "metadata": {},
   "outputs": [
    {
     "name": "stdout",
     "output_type": "stream",
     "text": [
      "0.14536340852130386 -4.636090225563916 34.719298245614056\n"
     ]
    }
   ],
   "source": [
    "a, b, c = np.polyfit(mag, size, 2)\n",
    "print(a, b, c)"
   ]
  },
  {
   "cell_type": "code",
   "execution_count": 24,
   "metadata": {},
   "outputs": [],
   "source": [
    "#plot(mag, size, 'o')\n",
    "#X = np.arange(0, 10)\n",
    "#plot(a*X*X + b*X + c)"
   ]
  },
  {
   "cell_type": "code",
   "execution_count": 25,
   "metadata": {},
   "outputs": [],
   "source": [
    "def star_markersize(magnitude):\n",
    "    return np.clip(6.0 - magnitude, 0.5, None) ** 2.0"
   ]
  },
  {
   "cell_type": "code",
   "execution_count": 26,
   "metadata": {},
   "outputs": [
    {
     "name": "stdout",
     "output_type": "stream",
     "text": [
      "['__class__', '__delattr__', '__dict__', '__dir__', '__doc__', '__eq__', '__format__', '__ge__', '__getattribute__', '__gt__', '__hash__', '__init__', '__init_subclass__', '__le__', '__lt__', '__module__', '__ne__', '__new__', '__reduce__', '__reduce_ex__', '__repr__', '__setattr__', '__sizeof__', '__str__', '__subclasshook__', '__weakref__', '_compute_vectors', '_observe_from_bcrs', '_position_au', '_velocity_au_per_d', 'au_km', 'dec', 'dec_mas_per_year', 'epoch', 'from_dataframe', 'names', 'parallax_mas', 'ra', 'ra_mas_per_year', 'radial_km_per_s', 'target']\n"
     ]
    },
    {
     "data": {
      "text/plain": [
       "hip\n",
       "88        0.2500\n",
       "107       0.2500\n",
       "122       1.4884\n",
       "124       0.2500\n",
       "145       0.7569\n",
       "           ...  \n",
       "118243    1.2544\n",
       "118268    3.8809\n",
       "118277    0.2500\n",
       "118281    0.2500\n",
       "118322    2.2801\n",
       "Name: magnitude, Length: 5044, dtype: float64"
      ]
     },
     "execution_count": 26,
     "metadata": {},
     "output_type": "execute_result"
    }
   ],
   "source": [
    "print(dir(starobj))\n",
    "star_markersize(bright.magnitude)"
   ]
  },
  {
   "cell_type": "code",
   "execution_count": 27,
   "metadata": {},
   "outputs": [
    {
     "name": "stdout",
     "output_type": "stream",
     "text": [
      "[ 0.15500351  0.12487192  0.09415085  0.06298742  0.03154536  0.\n",
      " -0.03146817 -0.06268067 -0.09346815 -0.12367671] [ 4.36914984e-02  3.62581155e-02  2.80757650e-02  1.92390628e-02\n",
      "  9.84665625e-03  2.77555756e-17 -1.01985406e-02 -2.06480548e-02\n",
      " -3.12516353e-02 -4.19187999e-02]\n"
     ]
    }
   ],
   "source": [
    "t_comet = ts.utc(2020, 7, range(17, 27))\n",
    "comet_x, comet_y = proj(earth.at(t_comet).observe(comet))\n",
    "print(comet_x, comet_y)"
   ]
  },
  {
   "cell_type": "code",
   "execution_count": 28,
   "metadata": {},
   "outputs": [],
   "source": [
    "constellations = []\n",
    "path = '/home/brandon/stellarium/skycultures/almagest/constellationship.fab'\n",
    "path = '/home/brandon/stellarium/skycultures/western/constellationship.fab'\n",
    "path = '/home/brandon/stellarium/skycultures/western_SnT/constellationship.fab'\n",
    "with open(path) as f:\n",
    "    for line in f:\n",
    "        if line.lstrip().startswith('#'):\n",
    "            continue\n",
    "        fields = line.split()\n",
    "        if not fields:\n",
    "            continue\n",
    "        name = fields[0]\n",
    "        edges = [(int(fields[i]), int(fields[i+1]))\n",
    "                 for i in range(2, len(fields), 2)]\n",
    "        constellations.append(edges)"
   ]
  },
  {
   "cell_type": "code",
   "execution_count": 29,
   "metadata": {},
   "outputs": [
    {
     "data": {
      "image/png": "[encoded data removed]",
      "text/plain": [
       "<Figure size 648x648 with 1 Axes>"
      ]
     },
     "metadata": {
      "needs_background": "light"
     },
     "output_type": "display_data"
    }
   ],
   "source": [
    "fig, ax = plt.subplots(figsize=[9, 9])\n",
    "for edges in constellations:\n",
    "    for starnum1, starnum2 in edges:\n",
    "        i = stars.index.get_loc(starnum1)\n",
    "        x1 = all_star_x[i]\n",
    "        y1 = all_star_y[i]\n",
    "        i = stars.index.get_loc(starnum2)\n",
    "        x2 = all_star_x[i]\n",
    "        y2 = all_star_y[i]\n",
    "        ax.plot((x1, x2), (y1, y2), '#eee', zorder=0)\n",
    "ax.scatter(x, y, s=star_markersize(bright.magnitude), color='k')\n",
    "#ax.scatter(comet_x, comet_y, s=100, color='b')\n",
    "comet_color = '#f00'\n",
    "ax.plot(comet_x, comet_y, '+', c=comet_color, zorder=3)\n",
    "for xi, yi, tstr in zip(comet_x, comet_y, t_comet.utc_strftime('\\n%m/%d')):\n",
    "    text = ax.text(xi, yi, tstr, color=comet_color, ha='left', va='top', fontsize=10,\n",
    "           weight='bold')\n",
    "    text.set_alpha(0.3)\n",
    "ax.set_title('Comet NEOWISE {} through {}'.format(\n",
    "    *t_comet[[0,-1]].utc_strftime('%Y-%m-%d')\n",
    "))\n",
    "ax.set_aspect(1.0)\n",
    "ax.xaxis.set_visible(False)\n",
    "ax.yaxis.set_visible(False)\n",
    "K = 0.2\n",
    "ax.set_xlim(-K, K)\n",
    "ax.set_ylim(-K, K)\n",
    "for spine in ax.spines.values():\n",
    "#    spine.set_visible(False)\n",
    "    spine.set_edgecolor('#ccc')"
   ]
  },
  {
   "cell_type": "code",
   "execution_count": 30,
   "metadata": {},
   "outputs": [
    {
     "data": {
      "text/plain": [
       "5044"
      ]
     },
     "execution_count": 30,
     "metadata": {},
     "output_type": "execute_result"
    }
   ],
   "source": [
    "len(x)"
   ]
  },
  {
   "cell_type": "code",
   "execution_count": 31,
   "metadata": {},
   "outputs": [
    {
     "data": {
      "text/plain": [
       "['__class__',\n",
       " '__delattr__',\n",
       " '__dir__',\n",
       " '__doc__',\n",
       " '__eq__',\n",
       " '__format__',\n",
       " '__ge__',\n",
       " '__getattribute__',\n",
       " '__gt__',\n",
       " '__hash__',\n",
       " '__init__',\n",
       " '__init_subclass__',\n",
       " '__le__',\n",
       " '__lt__',\n",
       " '__module__',\n",
       " '__ne__',\n",
       " '__new__',\n",
       " '__reduce__',\n",
       " '__reduce_ex__',\n",
       " '__repr__',\n",
       " '__setattr__',\n",
       " '__sizeof__',\n",
       " '__slots__',\n",
       " '__str__',\n",
       " '__subclasshook__',\n",
       " 'altaz_rotation',\n",
       " 'bcrs_position',\n",
       " 'bcrs_velocity',\n",
       " 'elevation_m',\n",
       " 'ephemeris',\n",
       " 'gcrs_position']"
      ]
     },
     "execution_count": 31,
     "metadata": {},
     "output_type": "execute_result"
    }
   ],
   "source": [
    "dir(observer.observer_data)"
   ]
  },
  {
   "cell_type": "code",
   "execution_count": null,
   "metadata": {},
   "outputs": [],
   "source": []
  },
  {
   "cell_type": "code",
   "execution_count": null,
   "metadata": {},
   "outputs": [],
   "source": []
  }
 ],
 "metadata": {
  "kernelspec": {
   "display_name": "Python 3",
   "language": "python",
   "name": "python3"
  },
  "language_info": {
   "codemirror_mode": {
    "name": "ipython",
    "version": 3
   },
   "file_extension": ".py",
   "mimetype": "text/x-python",
   "name": "python",
   "nbconvert_exporter": "python",
   "pygments_lexer": "ipython3",
   "version": "3.7.3"
  }
 },
 "nbformat": 4,
 "nbformat_minor": 4
}
