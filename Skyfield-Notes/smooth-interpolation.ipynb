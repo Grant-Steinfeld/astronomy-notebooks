{
 "cells": [
  {
   "cell_type": "code",
   "execution_count": 2,
   "metadata": {},
   "outputs": [
    {
     "name": "stdout",
     "output_type": "stream",
     "text": [
      "Populating the interactive namespace from numpy and matplotlib\n"
     ]
    }
   ],
   "source": [
    "%pylab inline\n",
    "%load_ext autoreload\n",
    "%autoreload 2\n",
    "import numpy as np\n",
    "#import pandas as pd\n",
    "#import seaborn as sns\n",
    "#sns.set()\n",
    "#pd.options.display.max_colwidth = 128\n",
    "pylab.rcParams['figure.figsize'] = 12, 5\n",
    "# d = pd.read_csv('...', parse_dates=['date'])\n",
    "# pd.to_datetime(d['timestamp'], unit='s')\n",
    "# with mpl.rc_context({\"figure.figsize\": (5, 5)}):\n",
    "# with mpl.rc_context({\"lines.linewidth\": 2, \"lines.color\": \"r\"}):\n",
    "# plt.legend(loc='center left', bbox_to_anchor=(1.1, 0.5))\n",
    "# ax.set_xlabel('x label')\n"
   ]
  },
  {
   "cell_type": "code",
   "execution_count": 134,
   "metadata": {},
   "outputs": [
    {
     "data": {
      "text/plain": [
       "52083.333333333336"
      ]
     },
     "execution_count": 134,
     "metadata": {},
     "output_type": "execute_result"
    }
   ],
   "source": [
    "4.5e15 / 24 / 60 / 60 / 1e6  # per microsecond, over one day"
   ]
  },
  {
   "cell_type": "code",
   "execution_count": 135,
   "metadata": {},
   "outputs": [
    {
     "data": {
      "text/plain": [
       "3472.222222222222"
      ]
     },
     "execution_count": 135,
     "metadata": {},
     "output_type": "execute_result"
    }
   ],
   "source": [
    "4.5e15 / 360 / 60 / 60 / 1e6  # per microarcsecond, over one rev"
   ]
  },
  {
   "cell_type": "code",
   "execution_count": 136,
   "metadata": {},
   "outputs": [
    {
     "data": {
      "text/plain": [
       "2.910130513533271"
      ]
     },
     "execution_count": 136,
     "metadata": {},
     "output_type": "execute_result"
    }
   ],
   "source": [
    "4.5e15 / (2022 - 1973) / 365.25 / 24 / 60 / 60 / 1e6  # per microsecond, over "
   ]
  },
  {
   "cell_type": "code",
   "execution_count": 138,
   "metadata": {},
   "outputs": [
    {
     "data": {
      "text/plain": [
       "194.00870090221807"
      ]
     },
     "execution_count": 138,
     "metadata": {},
     "output_type": "execute_result"
    }
   ],
   "source": [
    "4.5e15 / (2022 - 1973) / 365.25 / 360 / 60 / 60 / 1e3  # per mas, over finals file"
   ]
  },
  {
   "cell_type": "code",
   "execution_count": 146,
   "metadata": {},
   "outputs": [
    {
     "data": {
      "text/plain": [
       "1.5"
      ]
     },
     "execution_count": 146,
     "metadata": {},
     "output_type": "execute_result"
    }
   ],
   "source": [
    "# A number like \"0.8084178\" is specified to 1e-7 clock seconds.\n",
    "# How many arcseconds does that correspond to at the equator?\n",
    "1e-7 * 15 * 1e6  # micro-arcseconds"
   ]
  },
  {
   "cell_type": "code",
   "execution_count": 145,
   "metadata": {},
   "outputs": [
    {
     "data": {
      "text/plain": [
       "5.154408"
      ]
     },
     "execution_count": 145,
     "metadata": {},
     "output_type": "execute_result"
    }
   ],
   "source": [
    "µas = (2022 - 1973) * 365.25 * 360 * 60 * 60 * 1e6\n",
    "µas / 4.5e15"
   ]
  },
  {
   "cell_type": "code",
   "execution_count": 147,
   "metadata": {},
   "outputs": [],
   "source": [
    "# So, a single float is insufficient!\n",
    "# BUT WAIT.\n",
    "# Is it? How many unique values can come OUT for ∆T?\n",
    "# It might not be useful for the input parameter to have\n",
    "# very high precision if the output value can't assume\n",
    "# all the corresponding values anyway."
   ]
  },
  {
   "cell_type": "code",
   "execution_count": null,
   "metadata": {},
   "outputs": [],
   "source": [
    "# Principles.\n",
    "# 1. We can use the Earth Rotation angle to very high precision.\n",
    "#    Per the comparison above between seconds-of-time and\n",
    "#    seconds-of-arc, a full float’s worth of precision cannot\n",
    "#    ..."
   ]
  },
  {
   "cell_type": "code",
   "execution_count": 163,
   "metadata": {},
   "outputs": [],
   "source": [
    "from skyfield.api import load\n",
    "ts = load.timescale()\n",
    "start = ts.utc(1973, 1, 2)\n",
    "end = ts.utc(2021, 10, 23)\n",
    "delta_t_1 = start.delta_t\n",
    "delta_t_2 = end.delta_t\n",
    "spread = delta_t_2 - delta_t_1\n",
    "\n",
    "# Using a single float to interpolate over this period means\n",
    "# only being able to designate "
   ]
  },
  {
   "cell_type": "code",
   "execution_count": 169,
   "metadata": {},
   "outputs": [
    {
     "data": {
      "text/plain": [
       "0.34225920555556116"
      ]
     },
     "execution_count": 169,
     "metadata": {},
     "output_type": "execute_result"
    }
   ],
   "source": [
    "# How long will plateaus of ∆T last if we interpolate with a float?\n",
    "\n",
    "unique_values = 4.5e15\n",
    "(end.tt - start.tt) * 24 * 60 * 60 * 1e6 / unique_values # µs"
   ]
  },
  {
   "cell_type": "code",
   "execution_count": 177,
   "metadata": {},
   "outputs": [
    {
     "data": {
      "text/plain": [
       "1.188709850191237"
      ]
     },
     "execution_count": 177,
     "metadata": {},
     "output_type": "execute_result"
    }
   ],
   "source": [
    "# How long MUST plateaus of ∆T last, given that ∆T is returned as\n",
    "# a single float? (Or — should it be returned as two?!)\n",
    "\n",
    "step = np.nextafter(delta_t_2, 1e99) - delta_t_2\n",
    "steps = spread / step\n",
    "steps / (end.tt - start.tt) / 24 / 60 / 60 / 1e6 # µs"
   ]
  },
  {
   "cell_type": "code",
   "execution_count": null,
   "metadata": {},
   "outputs": [],
   "source": [
    "# What if we assumed equal spacing — oh, we can't, it's UTC, right?!"
   ]
  },
  {
   "cell_type": "code",
   "execution_count": 162,
   "metadata": {},
   "outputs": [
    {
     "data": {
      "text/plain": [
       "sys.float_info(max=1.7976931348623157e+308, max_exp=1024, max_10_exp=308, min=2.2250738585072014e-308, min_exp=-1021, min_10_exp=-307, dig=15, mant_dig=53, epsilon=2.220446049250313e-16, radix=2, rounds=1)"
      ]
     },
     "execution_count": 162,
     "metadata": {},
     "output_type": "execute_result"
    }
   ],
   "source": [
    "import sys\n",
    "sys.float_info\n",
    "#1 / sys.float_info.epsilon"
   ]
  },
  {
   "cell_type": "code",
   "execution_count": 106,
   "metadata": {},
   "outputs": [],
   "source": [
    "xp, yp = np.array([\n",
    "    [10.0, 0.5],\n",
    "    [11.0, 1.5],\n",
    "    [12.0, 4.0],\n",
    "]).T"
   ]
  },
  {
   "cell_type": "code",
   "execution_count": 107,
   "metadata": {},
   "outputs": [],
   "source": [
    "fraction = np.arange(-40, 41) * 1e-16\n",
    "whole = [11.0] * len(fraction)"
   ]
  },
  {
   "cell_type": "code",
   "execution_count": 108,
   "metadata": {},
   "outputs": [],
   "source": [
    "#list(whole + fraction)"
   ]
  },
  {
   "cell_type": "code",
   "execution_count": 109,
   "metadata": {},
   "outputs": [],
   "source": [
    "def highres_plot(y):\n",
    "    h = y.max() - y.min()\n",
    "    ylim(y.min() - h/5, y.max() + h/5)\n",
    "    plot(fraction, y, 'o')"
   ]
  },
  {
   "cell_type": "code",
   "execution_count": 111,
   "metadata": {},
   "outputs": [
    {
     "data": {
      "image/png": "[encoded data removed]",
      "text/plain": [
       "<Figure size 864x360 with 1 Axes>"
      ]
     },
     "metadata": {
      "needs_background": "light"
     },
     "output_type": "display_data"
    }
   ],
   "source": [
    "# Cannot use bare interp: entirely lose fraction,\n",
    "# graph had plateaus.\n",
    "\n",
    "y = np.interp(whole + fraction, xp, yp)\n",
    "highres_plot(y)"
   ]
  },
  {
   "cell_type": "code",
   "execution_count": 118,
   "metadata": {},
   "outputs": [
    {
     "data": {
      "text/plain": [
       "[<matplotlib.lines.Line2D at 0x7f8aa34d53c8>]"
      ]
     },
     "execution_count": 118,
     "metadata": {},
     "output_type": "execute_result"
    },
    {
     "data": {
      "image/png": "[encoded data removed]",
      "text/plain": [
       "<Figure size 864x360 with 1 Axes>"
      ]
     },
     "metadata": {
      "needs_background": "light"
     },
     "output_type": "display_data"
    }
   ],
   "source": [
    "# To use the fraction, need a slope.\n",
    "# But we cannot even use whole + fraction for selecting datum!\n",
    "# Because:\n",
    "\n",
    "slope = np.diff(yp)\n",
    "slope[i - 1]\n",
    "\n",
    "epsilon = whole - (whole + fraction) + fraction\n",
    "\n",
    "i = np.searchsorted(xp, whole + fraction, 'right')\n",
    "y = np.interp(whole + fraction, xp, yp) + epsilon * slope[i - 1]\n",
    "highres_plot(y)\n",
    "plot([0,0], [np.nextafter(1.5,1), np.nextafter(1.5,2)], 'ro')"
   ]
  },
  {
   "cell_type": "code",
   "execution_count": 129,
   "metadata": {},
   "outputs": [
    {
     "data": {
      "text/plain": [
       "7.71604938271605e-13"
      ]
     },
     "execution_count": 129,
     "metadata": {},
     "output_type": "execute_result"
    }
   ],
   "source": [
    "1.0 / 360.0 / 60.0 / 60.0 / 1e6 # micro arcsecond"
   ]
  },
  {
   "cell_type": "code",
   "execution_count": 127,
   "metadata": {},
   "outputs": [
    {
     "data": {
      "text/plain": [
       "[<matplotlib.lines.Line2D at 0x7f8aa32cc7b8>]"
      ]
     },
     "execution_count": 127,
     "metadata": {},
     "output_type": "execute_result"
    },
    {
     "data": {
      "image/png": "[encoded data removed]",
      "text/plain": [
       "<Figure size 864x360 with 1 Axes>"
      ]
     },
     "metadata": {
      "needs_background": "light"
     },
     "output_type": "display_data"
    }
   ],
   "source": [
    "# To use the fraction, need a slope.\n",
    "# But we cannot even use whole + fraction for selecting datum!\n",
    "# Because:\n",
    "\n",
    "slope = np.diff(yp)\n",
    "slope[i - 1]\n",
    "\n",
    "wf = whole + fraction\n",
    "epsilon = whole - wf + fraction\n",
    "negeps = epsilon < 0.0\n",
    "wf[negeps] = np.nextafter(wf[negeps], -1e99)\n",
    "epsilon = whole - wf + fraction\n",
    "#print(epsilon)\n",
    "\n",
    "i = np.searchsorted(xp, wf, 'right')\n",
    "y = np.interp(wf, xp, yp) + epsilon * slope[i - 1]\n",
    "highres_plot(y)\n",
    "plot([0,0], [np.nextafter(1.5,1), np.nextafter(1.5,2)], 'ro')"
   ]
  },
  {
   "cell_type": "code",
   "execution_count": null,
   "metadata": {},
   "outputs": [],
   "source": []
  },
  {
   "cell_type": "code",
   "execution_count": null,
   "metadata": {},
   "outputs": [],
   "source": []
  }
 ],
 "metadata": {
  "kernelspec": {
   "display_name": "Python 3",
   "language": "python",
   "name": "python3"
  },
  "language_info": {
   "codemirror_mode": {
    "name": "ipython",
    "version": 3
   },
   "file_extension": ".py",
   "mimetype": "text/x-python",
   "name": "python",
   "nbconvert_exporter": "python",
   "pygments_lexer": "ipython3",
   "version": "3.7.3"
  }
 },
 "nbformat": 4,
 "nbformat_minor": 4
}
