{
 "cells": [
  {
   "cell_type": "code",
   "execution_count": 1,
   "metadata": {},
   "outputs": [
    {
     "name": "stdout",
     "output_type": "stream",
     "text": [
      "Populating the interactive namespace from numpy and matplotlib\n"
     ]
    }
   ],
   "source": [
    "%pylab inline\n",
    "from IPython.display import HTML\n",
    "tau = 2.0 * pi"
   ]
  },
  {
   "cell_type": "code",
   "execution_count": 2,
   "metadata": {},
   "outputs": [
    {
     "data": {
      "text/html": [
       "\n",
       "<svg version=\"1.1\" width=220 height=220>\n",
       " <g transform=\"translate(110, 110)\">\n",
       "  <circle cx=0 cy=0 r=100 stroke=lightgray stroke-width=1 fill=none />\n",
       "  <g class=\"anim stationary\">\n",
       "   <line x1=0 y1=0 x2=100 y2=0 stroke=lightgray />\n",
       "   <circle cx=100 cy=0 r=5 fill=#bb0 />\n",
       "  </g>\n",
       "  <circle cx=0 cy=0 r=3 fill=#040 />\n",
       " </g>\n",
       "</svg>\n"
      ],
      "text/plain": [
       "<IPython.core.display.HTML object>"
      ]
     },
     "execution_count": 2,
     "metadata": {},
     "output_type": "execute_result"
    }
   ],
   "source": [
    "circular_svg = '''\n",
    "<svg version=\"1.1\" width=220 height=220>\n",
    " <g transform=\"translate(110, 110)\">\n",
    "  <circle cx=0 cy=0 r=100 stroke=lightgray stroke-width=1 fill=none />\n",
    "  <g class=\"anim %s\">\n",
    "   <line x1=0 y1=0 x2=100 y2=0 stroke=lightgray />\n",
    "   <circle cx=100 cy=0 r=5 fill=#bb0 />\n",
    "  </g>\n",
    "  <circle cx=0 cy=0 r=3 fill=#040 />\n",
    " </g>\n",
    "</svg>\n",
    "'''\n",
    "\n",
    "HTML(circular_svg % 'stationary')"
   ]
  },
  {
   "cell_type": "code",
   "execution_count": 3,
   "metadata": {},
   "outputs": [
    {
     "data": {
      "text/html": [
       "\n",
       "<svg version=\"1.1\" width=220 height=220>\n",
       " <g transform=\"translate(110, 110)\">\n",
       "  <circle cx=0 cy=0 r=100 stroke=lightgray stroke-width=1 fill=none />\n",
       "  <g class=\"anim uniform\">\n",
       "   <line x1=0 y1=0 x2=100 y2=0 stroke=lightgray />\n",
       "   <circle cx=100 cy=0 r=5 fill=#bb0 />\n",
       "  </g>\n",
       "  <circle cx=0 cy=0 r=3 fill=#040 />\n",
       " </g>\n",
       "</svg>\n",
       "\n",
       "<style>\n",
       ".anim {\n",
       " animation-duration: 10s;\n",
       " animation-iteration-count: infinite;\n",
       "} \n",
       ".uniform {\n",
       " animation-name: uniform;\n",
       " animation-timing-function: linear;\n",
       "}\n",
       "@keyframes uniform {\n",
       " to {transform: rotate(360deg);}\n",
       "}\n",
       "</style>\n"
      ],
      "text/plain": [
       "<IPython.core.display.HTML object>"
      ]
     },
     "execution_count": 3,
     "metadata": {},
     "output_type": "execute_result"
    }
   ],
   "source": [
    "circular_style = '''\n",
    "<style>\n",
    ".anim {\n",
    " animation-duration: 10s;\n",
    " animation-iteration-count: infinite;\n",
    "} \n",
    ".uniform {\n",
    " animation-name: uniform;\n",
    " animation-timing-function: linear;\n",
    "}\n",
    "@keyframes uniform {\n",
    " to {transform: rotate(360deg);}\n",
    "}\n",
    "</style>\n",
    "'''\n",
    "\n",
    "HTML(circular_svg % 'uniform' + circular_style)"
   ]
  },
  {
   "cell_type": "code",
   "execution_count": 4,
   "metadata": {},
   "outputs": [
    {
     "data": {
      "text/html": [
       "\n",
       "<svg version=\"1.1\" width=300 height=220>\n",
       " <g transform=\"translate(110, 110)\">\n",
       "  <circle cx=0 cy=0 r=2 fill=gray />\n",
       "  <circle cx=0 cy=0 r=100 stroke=lightgray stroke-width=1 fill=none />\n",
       "  <g class=\"anim stationary\">\n",
       "   <circle cx=100 cy=0 r=5 fill=#bb0 />\n",
       "  </g>\n",
       "  <g transform=\"translate(70, 0)\">\n",
       "   <circle cx=0 cy=0 r=2 fill=gray />\n",
       "   <g class=\"anim uniform\">\n",
       "    <line x1=0 y1=0 x2=170 y2=0 stroke=lightgray />\n",
       "   </g>\n",
       "  </g>\n",
       " </g>\n",
       "</svg>\n"
      ],
      "text/plain": [
       "<IPython.core.display.HTML object>"
      ]
     },
     "execution_count": 4,
     "metadata": {},
     "output_type": "execute_result"
    }
   ],
   "source": [
    "equant_svg = '''\n",
    "<svg version=\"1.1\" width=300 height=220>\n",
    " <g transform=\"translate(110, 110)\">\n",
    "  <circle cx=0 cy=0 r=2 fill=gray />\n",
    "  <circle cx=0 cy=0 r=100 stroke=lightgray stroke-width=1 fill=none />\n",
    "  <g class=\"anim %s\">\n",
    "   <circle cx=100 cy=0 r=5 fill=#bb0 />\n",
    "  </g>\n",
    "  <g transform=\"translate(%s, 0)\">\n",
    "   <circle cx=0 cy=0 r=2 fill=gray />\n",
    "   <g class=\"anim uniform\">\n",
    "    <line x1=0 y1=0 x2=%s y2=0 stroke=lightgray />\n",
    "   </g>\n",
    "  </g>\n",
    " </g>\n",
    "</svg>\n",
    "'''\n",
    "\n",
    "HTML(equant_svg % ('stationary', 70, 170))"
   ]
  },
  {
   "cell_type": "code",
   "execution_count": 5,
   "metadata": {},
   "outputs": [
    {
     "data": {
      "text/html": [
       "\n",
       "<svg version=\"1.1\" width=300 height=220>\n",
       " <g transform=\"translate(110, 110)\">\n",
       "  <circle cx=0 cy=0 r=2 fill=gray />\n",
       "  <circle cx=0 cy=0 r=100 stroke=lightgray stroke-width=1 fill=none />\n",
       "  <g class=\"anim uniform\">\n",
       "   <circle cx=100 cy=0 r=5 fill=#bb0 />\n",
       "  </g>\n",
       "  <g transform=\"translate(70, 0)\">\n",
       "   <circle cx=0 cy=0 r=2 fill=gray />\n",
       "   <g class=\"anim uniform\">\n",
       "    <line x1=0 y1=0 x2=170 y2=0 stroke=lightgray />\n",
       "   </g>\n",
       "  </g>\n",
       " </g>\n",
       "</svg>\n"
      ],
      "text/plain": [
       "<IPython.core.display.HTML object>"
      ]
     },
     "execution_count": 5,
     "metadata": {},
     "output_type": "execute_result"
    }
   ],
   "source": [
    "HTML(equant_svg % ('uniform', 70, 170))"
   ]
  },
  {
   "cell_type": "code",
   "execution_count": 6,
   "metadata": {},
   "outputs": [
    {
     "data": {
      "image/png": "[encoded data removed]",
      "text/plain": [
       "<Figure size 432x288 with 1 Axes>"
      ]
     },
     "metadata": {
      "needs_background": "light"
     },
     "output_type": "display_data"
    }
   ],
   "source": [
    "def equant_E(M, e):\n",
    "    return M - arcsin(e * np.sin(M))\n",
    "\n",
    "M = linspace(0, tau)\n",
    "E = equant_E(M, 0.7)\n",
    "plot(M, E);"
   ]
  },
  {
   "cell_type": "code",
   "execution_count": 7,
   "metadata": {},
   "outputs": [],
   "source": [
    "def bezier(t, x1, y1, x2, y2):\n",
    "    m = 1 - t\n",
    "    p = 3 * m * t\n",
    "    b, c, d = p * m, p * t, t * t * t\n",
    "    return (b * x1 + c * x2 + d,\n",
    "            b * y1 + c * y2 + d)"
   ]
  },
  {
   "cell_type": "code",
   "execution_count": 8,
   "metadata": {},
   "outputs": [
    {
     "data": {
      "text/plain": [
       "[<matplotlib.lines.Line2D at 0x7f0ad77b0e10>]"
      ]
     },
     "execution_count": 8,
     "metadata": {},
     "output_type": "execute_result"
    },
    {
     "data": {
      "image/png": "[encoded data removed]",
      "text/plain": [
       "<Figure size 432x288 with 1 Axes>"
      ]
     },
     "metadata": {
      "needs_background": "light"
     },
     "output_type": "display_data"
    }
   ],
   "source": [
    "t = linspace(0, 1)\n",
    "xb, yb = bezier(t, 0.8, 0, 0.2, 1)\n",
    "plot(xb, yb, '.-')"
   ]
  },
  {
   "cell_type": "code",
   "execution_count": 9,
   "metadata": {},
   "outputs": [
    {
     "data": {
      "text/plain": [
       "[<matplotlib.lines.Line2D at 0x7f0aa8a1df98>]"
      ]
     },
     "execution_count": 9,
     "metadata": {},
     "output_type": "execute_result"
    },
    {
     "data": {
      "image/png": "[encoded data removed]",
      "text/plain": [
       "<Figure size 432x288 with 1 Axes>"
      ]
     },
     "metadata": {
      "needs_background": "light"
     },
     "output_type": "display_data"
    }
   ],
   "source": [
    "plot(M, interp(M, xb, yb), '.-')"
   ]
  },
  {
   "cell_type": "code",
   "execution_count": 10,
   "metadata": {},
   "outputs": [
    {
     "data": {
      "text/plain": [
       "[<matplotlib.lines.Line2D at 0x7f0aa8984358>]"
      ]
     },
     "execution_count": 10,
     "metadata": {},
     "output_type": "execute_result"
    },
    {
     "data": {
      "image/png": "[encoded data removed]",
      "text/plain": [
       "<Figure size 432x288 with 1 Axes>"
      ]
     },
     "metadata": {
      "needs_background": "light"
     },
     "output_type": "display_data"
    }
   ],
   "source": [
    "plot(M/tau, interp(M/tau, xb, yb), '.-')"
   ]
  },
  {
   "cell_type": "code",
   "execution_count": 11,
   "metadata": {},
   "outputs": [],
   "source": [
    "def bezier_in_a_box(M0, M1, E0, E1):\n",
    "    def boxed(M, x1, y1, x2, y2):\n",
    "        t = linspace(0, 1)\n",
    "        xb, yb = bezier(t, x1, y1, x2, y2)\n",
    "        x = (M - M0) / (M1 - M0)\n",
    "        y = interp(x, xb, yb)\n",
    "        return E0 + (E1 - E0) * y\n",
    "    return boxed"
   ]
  },
  {
   "cell_type": "code",
   "execution_count": 12,
   "metadata": {},
   "outputs": [
    {
     "data": {
      "text/plain": [
       "array([0.47532029, 0.06537691, 0.52467971, 0.93462309])"
      ]
     },
     "execution_count": 12,
     "metadata": {},
     "output_type": "execute_result"
    }
   ],
   "source": [
    "from scipy.optimize import curve_fit\n",
    "\n",
    "boxed = bezier_in_a_box(0, tau, 0, tau)\n",
    "guess = [0.5, 0.0, 0.5, 1.0]\n",
    "args, var = curve_fit(boxed, M, E, guess, bounds=[0,1])\n",
    "args"
   ]
  },
  {
   "cell_type": "code",
   "execution_count": 13,
   "metadata": {},
   "outputs": [
    {
     "data": {
      "text/plain": [
       "[<matplotlib.lines.Line2D at 0x7f0aa23625c0>]"
      ]
     },
     "execution_count": 13,
     "metadata": {},
     "output_type": "execute_result"
    },
    {
     "data": {
      "image/png": "[encoded data removed]",
      "text/plain": [
       "<Figure size 432x288 with 1 Axes>"
      ]
     },
     "metadata": {
      "needs_background": "light"
     },
     "output_type": "display_data"
    }
   ],
   "source": [
    "plot(M, E)\n",
    "plot(M, boxed(M, *args), '.')"
   ]
  },
  {
   "cell_type": "code",
   "execution_count": 14,
   "metadata": {},
   "outputs": [
    {
     "data": {
      "text/plain": [
       "1.980801996224498"
      ]
     },
     "execution_count": 14,
     "metadata": {},
     "output_type": "execute_result"
    }
   ],
   "source": [
    "max(abs(E - boxed(M, *args))) * 360 / tau"
   ]
  },
  {
   "cell_type": "code",
   "execution_count": 15,
   "metadata": {},
   "outputs": [],
   "source": [
    "bezier1_css = '''\n",
    "<style>\n",
    ".bezier1 {\n",
    "  animation-name: bezier1;\n",
    "}\n",
    "@keyframes bezier1 {\n",
    " from {animation-timing-function: %s}\n",
    " to {transform: rotate(360deg)}\n",
    "}\n",
    "</style>\n",
    "'''"
   ]
  },
  {
   "cell_type": "code",
   "execution_count": 16,
   "metadata": {},
   "outputs": [
    {
     "data": {
      "text/plain": [
       "'cubic-bezier(0.475, 0.065, 0.525, 0.935)'"
      ]
     },
     "execution_count": 16,
     "metadata": {},
     "output_type": "execute_result"
    }
   ],
   "source": [
    "def cb(args):\n",
    "    argstr = ', '.join('%.3f' % n for n in args)\n",
    "    return 'cubic-bezier(%s)' % argstr\n",
    "\n",
    "cb(args)"
   ]
  },
  {
   "cell_type": "code",
   "execution_count": 17,
   "metadata": {},
   "outputs": [
    {
     "data": {
      "text/html": [
       "\n",
       "<svg version=\"1.1\" width=300 height=220>\n",
       " <g transform=\"translate(110, 110)\">\n",
       "  <circle cx=0 cy=0 r=2 fill=gray />\n",
       "  <circle cx=0 cy=0 r=100 stroke=lightgray stroke-width=1 fill=none />\n",
       "  <g class=\"anim bezier1\">\n",
       "   <circle cx=100 cy=0 r=5 fill=#bb0 />\n",
       "  </g>\n",
       "  <g transform=\"translate(70, 0)\">\n",
       "   <circle cx=0 cy=0 r=2 fill=gray />\n",
       "   <g class=\"anim uniform\">\n",
       "    <line x1=0 y1=0 x2=170 y2=0 stroke=lightgray />\n",
       "   </g>\n",
       "  </g>\n",
       " </g>\n",
       "</svg>\n",
       "\n",
       "<style>\n",
       ".bezier1 {\n",
       "  animation-name: bezier1;\n",
       "}\n",
       "@keyframes bezier1 {\n",
       " from {animation-timing-function: cubic-bezier(0.475, 0.065, 0.525, 0.935)}\n",
       " to {transform: rotate(360deg)}\n",
       "}\n",
       "</style>\n"
      ],
      "text/plain": [
       "<IPython.core.display.HTML object>"
      ]
     },
     "execution_count": 17,
     "metadata": {},
     "output_type": "execute_result"
    }
   ],
   "source": [
    "css = bezier1_css % cb(args)\n",
    "HTML(equant_svg % ('bezier1', 70, 170) + css)"
   ]
  },
  {
   "cell_type": "code",
   "execution_count": 18,
   "metadata": {},
   "outputs": [
    {
     "name": "stdout",
     "output_type": "stream",
     "text": [
      "0.000% {\n",
      " transform: rotate(0.000rad);\n",
      " animation-timing-function: cubic-bezier(0.480, 0.206, 0.681, 0.333);\n",
      "}\n",
      "33.333% {\n",
      " transform: rotate(1.443rad);\n",
      " animation-timing-function: cubic-bezier(0.298, 0.264, 0.702, 0.736);\n",
      "}\n",
      "66.667% {\n",
      " transform: rotate(4.840rad);\n",
      " animation-timing-function: cubic-bezier(0.319, 0.667, 0.520, 0.794);\n",
      "}\n",
      "\n"
     ]
    }
   ],
   "source": [
    "KEYFRAME = '''\\\n",
    "%.3f%% {\n",
    " transform: rotate(%.3frad);\n",
    " animation-timing-function: %s;\n",
    "}\n",
    "'''\n",
    "\n",
    "boundaries = [0, tau/3, 2*tau/3, tau]\n",
    "keyframes = []\n",
    "for M0, M1 in zip(boundaries[:-1], boundaries[1:]):\n",
    "    M = linspace(M0, M1)\n",
    "    E = equant_E(M, 0.7)\n",
    "    boxed = bezier_in_a_box(M0, M1, E[0], E[-1])\n",
    "    args, v = curve_fit(boxed, M, E, bounds=[0,1])\n",
    "    percent = M0 / tau * 100\n",
    "    keyframe = KEYFRAME % (percent, E[0], cb(args))\n",
    "    keyframes.append(keyframe)\n",
    "    \n",
    "print(''.join(keyframes))"
   ]
  },
  {
   "cell_type": "code",
   "execution_count": 19,
   "metadata": {},
   "outputs": [],
   "source": [
    "bezier2_css = '''\n",
    "<style>\n",
    ".bezier2 {\n",
    "  animation-duration: 10s;\n",
    "  animation-iteration-count: infinite;\n",
    "  animation-name: bezier2;\n",
    "}\n",
    "@keyframes bezier2 {\n",
    " %s\n",
    " to {transform: rotate(360deg)}\n",
    "}\n",
    "</style>\n",
    "'''"
   ]
  },
  {
   "cell_type": "code",
   "execution_count": 20,
   "metadata": {},
   "outputs": [
    {
     "data": {
      "text/html": [
       "\n",
       "<svg version=\"1.1\" width=300 height=220>\n",
       " <g transform=\"translate(110, 110)\">\n",
       "  <circle cx=0 cy=0 r=2 fill=gray />\n",
       "  <circle cx=0 cy=0 r=100 stroke=lightgray stroke-width=1 fill=none />\n",
       "  <g class=\"anim bezier2\">\n",
       "   <circle cx=100 cy=0 r=5 fill=#bb0 />\n",
       "  </g>\n",
       "  <g transform=\"translate(70, 0)\">\n",
       "   <circle cx=0 cy=0 r=2 fill=gray />\n",
       "   <g class=\"anim uniform\">\n",
       "    <line x1=0 y1=0 x2=170 y2=0 stroke=lightgray />\n",
       "   </g>\n",
       "  </g>\n",
       " </g>\n",
       "</svg>\n",
       "\n",
       "<style>\n",
       ".bezier2 {\n",
       "  animation-duration: 10s;\n",
       "  animation-iteration-count: infinite;\n",
       "  animation-name: bezier2;\n",
       "}\n",
       "@keyframes bezier2 {\n",
       " 0.000% {\n",
       " transform: rotate(0.000rad);\n",
       " animation-timing-function: cubic-bezier(0.480, 0.206, 0.681, 0.333);\n",
       "}\n",
       "33.333% {\n",
       " transform: rotate(1.443rad);\n",
       " animation-timing-function: cubic-bezier(0.298, 0.264, 0.702, 0.736);\n",
       "}\n",
       "66.667% {\n",
       " transform: rotate(4.840rad);\n",
       " animation-timing-function: cubic-bezier(0.319, 0.667, 0.520, 0.794);\n",
       "}\n",
       "\n",
       " to {transform: rotate(360deg)}\n",
       "}\n",
       "</style>\n"
      ],
      "text/plain": [
       "<IPython.core.display.HTML object>"
      ]
     },
     "execution_count": 20,
     "metadata": {},
     "output_type": "execute_result"
    }
   ],
   "source": [
    "css = bezier2_css % ''.join(keyframes)\n",
    "html = equant_svg % ('bezier2', 70, 170) + css\n",
    "HTML(html)"
   ]
  },
  {
   "cell_type": "code",
   "execution_count": 21,
   "metadata": {},
   "outputs": [
    {
     "data": {
      "text/plain": [
       "958"
      ]
     },
     "execution_count": 21,
     "metadata": {},
     "output_type": "execute_result"
    }
   ],
   "source": [
    "len(html)"
   ]
  }
 ],
 "metadata": {
  "kernelspec": {
   "display_name": "Python 3",
   "language": "python",
   "name": "python3"
  },
  "language_info": {
   "codemirror_mode": {
    "name": "ipython",
    "version": 3
   },
   "file_extension": ".py",
   "mimetype": "text/x-python",
   "name": "python",
   "nbconvert_exporter": "python",
   "pygments_lexer": "ipython3",
   "version": "3.7.3"
  }
 },
 "nbformat": 4,
 "nbformat_minor": 2
}
